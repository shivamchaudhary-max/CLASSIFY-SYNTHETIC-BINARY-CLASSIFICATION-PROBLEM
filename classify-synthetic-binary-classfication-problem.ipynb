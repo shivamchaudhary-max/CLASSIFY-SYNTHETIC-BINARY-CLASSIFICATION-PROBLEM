{
 "cells": [
  {
   "cell_type": "code",
   "execution_count": 1,
   "id": "df3edc4d",
   "metadata": {
    "execution": {
     "iopub.execute_input": "2022-01-21T11:50:30.920577Z",
     "iopub.status.busy": "2022-01-21T11:50:30.918783Z",
     "iopub.status.idle": "2022-01-21T11:50:32.390742Z",
     "shell.execute_reply": "2022-01-21T11:50:32.389945Z",
     "shell.execute_reply.started": "2022-01-21T11:47:20.890767Z"
    },
    "papermill": {
     "duration": 1.488281,
     "end_time": "2022-01-21T11:50:32.390910",
     "exception": false,
     "start_time": "2022-01-21T11:50:30.902629",
     "status": "completed"
    },
    "tags": []
   },
   "outputs": [],
   "source": [
    "import numpy as np\n",
    "from sklearn.datasets import make_classification\n",
    "from sklearn.model_selection import StratifiedKFold\n",
    "from sklearn.ensemble import RandomForestClassifier\n",
    "from sklearn import model_selection\n",
    "from sklearn.model_selection import KFold\n",
    "from sklearn.model_selection import GridSearchCV\n",
    "import matplotlib.pyplot as plt"
   ]
  },
  {
   "cell_type": "code",
   "execution_count": 2,
   "id": "10b038a6",
   "metadata": {
    "execution": {
     "iopub.execute_input": "2022-01-21T11:50:32.416970Z",
     "iopub.status.busy": "2022-01-21T11:50:32.416325Z",
     "iopub.status.idle": "2022-01-21T11:50:32.433734Z",
     "shell.execute_reply": "2022-01-21T11:50:32.432561Z",
     "shell.execute_reply.started": "2022-01-21T11:47:22.419045Z"
    },
    "papermill": {
     "duration": 0.033075,
     "end_time": "2022-01-21T11:50:32.434010",
     "exception": false,
     "start_time": "2022-01-21T11:50:32.400935",
     "status": "completed"
    },
    "tags": []
   },
   "outputs": [
    {
     "name": "stdout",
     "output_type": "stream",
     "text": [
      "(1000, 20) (1000,)\n"
     ]
    }
   ],
   "source": [
    "# define dataset\n",
    "X, y = make_classification(n_samples=1000, n_features=20, n_informative=15, n_redundant=5, random_state=1)\n",
    "# summarize the dataset\n",
    "print(X.shape, y.shape)"
   ]
  },
  {
   "cell_type": "code",
   "execution_count": 3,
   "id": "345240c2",
   "metadata": {
    "execution": {
     "iopub.execute_input": "2022-01-21T11:50:32.462719Z",
     "iopub.status.busy": "2022-01-21T11:50:32.458874Z",
     "iopub.status.idle": "2022-01-21T11:50:32.466681Z",
     "shell.execute_reply": "2022-01-21T11:50:32.465966Z",
     "shell.execute_reply.started": "2022-01-21T11:47:42.569526Z"
    },
    "papermill": {
     "duration": 0.021681,
     "end_time": "2022-01-21T11:50:32.466845",
     "exception": false,
     "start_time": "2022-01-21T11:50:32.445164",
     "status": "completed"
    },
    "tags": []
   },
   "outputs": [],
   "source": [
    "from sklearn.model_selection import train_test_split\n",
    "\n",
    "X_train,X_test,y_train,y_test = train_test_split(X,y,test_size=0.3,random_state=1)\n"
   ]
  },
  {
   "cell_type": "code",
   "execution_count": 4,
   "id": "e1db6b07",
   "metadata": {
    "execution": {
     "iopub.execute_input": "2022-01-21T11:50:32.496185Z",
     "iopub.status.busy": "2022-01-21T11:50:32.495382Z",
     "iopub.status.idle": "2022-01-21T11:50:38.134926Z",
     "shell.execute_reply": "2022-01-21T11:50:38.134221Z",
     "shell.execute_reply.started": "2022-01-21T11:47:53.163064Z"
    },
    "papermill": {
     "duration": 5.658012,
     "end_time": "2022-01-21T11:50:38.135131",
     "exception": false,
     "start_time": "2022-01-21T11:50:32.477119",
     "status": "completed"
    },
    "tags": []
   },
   "outputs": [
    {
     "name": "stdout",
     "output_type": "stream",
     "text": [
      "{'n_estimators': 200}\n"
     ]
    }
   ],
   "source": [
    "#create a new random forest classifier\n",
    "rf = RandomForestClassifier()\n",
    "\n",
    "#create a dictionary of all values we want to test for n_estimators\n",
    "params_rf = {'n_estimators': [50, 100, 200]}\n",
    "\n",
    "#use gridsearch to test all values for n_estimators\n",
    "rf_gs = GridSearchCV(rf, params_rf, cv=5)\n",
    "\n",
    "#fit model to training data\n",
    "rf_gs.fit(X_train, y_train)\n",
    "\n",
    "#save best model\n",
    "rf_best = rf_gs.best_estimator_\n",
    "\n",
    "#check best n_estimators value\n",
    "print(rf_gs.best_params_)"
   ]
  },
  {
   "cell_type": "code",
   "execution_count": 5,
   "id": "8755778c",
   "metadata": {
    "execution": {
     "iopub.execute_input": "2022-01-21T11:50:38.162687Z",
     "iopub.status.busy": "2022-01-21T11:50:38.162034Z",
     "iopub.status.idle": "2022-01-21T11:50:39.116149Z",
     "shell.execute_reply": "2022-01-21T11:50:39.116643Z",
     "shell.execute_reply.started": "2022-01-21T11:48:13.305901Z"
    },
    "papermill": {
     "duration": 0.97136,
     "end_time": "2022-01-21T11:50:39.116859",
     "exception": false,
     "start_time": "2022-01-21T11:50:38.145499",
     "status": "completed"
    },
    "tags": []
   },
   "outputs": [
    {
     "name": "stdout",
     "output_type": "stream",
     "text": [
      "Accuracy: 91.30%\n"
     ]
    }
   ],
   "source": [
    "skfold = StratifiedKFold(n_splits=3)\n",
    "model_skfold = RandomForestClassifier(n_estimators=100)\n",
    "results_skfold = model_selection.cross_val_score(model_skfold,X,y, cv=skfold)\n",
    "print(\"Accuracy: %.2f%%\" % (results_skfold.mean()*100.0))"
   ]
  },
  {
   "cell_type": "code",
   "execution_count": 6,
   "id": "dc3b178d",
   "metadata": {
    "execution": {
     "iopub.execute_input": "2022-01-21T11:50:39.145184Z",
     "iopub.status.busy": "2022-01-21T11:50:39.144245Z",
     "iopub.status.idle": "2022-01-21T11:50:39.147707Z",
     "shell.execute_reply": "2022-01-21T11:50:39.147010Z",
     "shell.execute_reply.started": "2022-01-21T11:48:48.312393Z"
    },
    "papermill": {
     "duration": 0.020433,
     "end_time": "2022-01-21T11:50:39.147871",
     "exception": false,
     "start_time": "2022-01-21T11:50:39.127438",
     "status": "completed"
    },
    "tags": []
   },
   "outputs": [],
   "source": [
    "from numpy import mean\n",
    "from numpy import std\n",
    "from sklearn.datasets import make_regression\n",
    "from sklearn.model_selection import cross_val_score\n",
    "from sklearn.model_selection import RepeatedKFold\n",
    "from sklearn.ensemble import RandomForestRegressor"
   ]
  },
  {
   "cell_type": "code",
   "execution_count": 7,
   "id": "71b544b9",
   "metadata": {
    "execution": {
     "iopub.execute_input": "2022-01-21T11:50:39.176196Z",
     "iopub.status.busy": "2022-01-21T11:50:39.175480Z",
     "iopub.status.idle": "2022-01-21T11:50:39.181576Z",
     "shell.execute_reply": "2022-01-21T11:50:39.180873Z",
     "shell.execute_reply.started": "2022-01-21T11:48:58.408192Z"
    },
    "papermill": {
     "duration": 0.023254,
     "end_time": "2022-01-21T11:50:39.181733",
     "exception": false,
     "start_time": "2022-01-21T11:50:39.158479",
     "status": "completed"
    },
    "tags": []
   },
   "outputs": [
    {
     "name": "stdout",
     "output_type": "stream",
     "text": [
      "(1000, 20) (1000,)\n"
     ]
    }
   ],
   "source": [
    "# define dataset\n",
    "X1, y1 = make_classification(n_samples=1000, n_features=20, n_informative=15, n_redundant=5, random_state=1)\n",
    "# summarize the dataset\n",
    "print(X1.shape, y1.shape)"
   ]
  },
  {
   "cell_type": "code",
   "execution_count": 8,
   "id": "b4003699",
   "metadata": {
    "execution": {
     "iopub.execute_input": "2022-01-21T11:50:39.212461Z",
     "iopub.status.busy": "2022-01-21T11:50:39.211772Z",
     "iopub.status.idle": "2022-01-21T11:50:51.965639Z",
     "shell.execute_reply": "2022-01-21T11:50:51.966158Z",
     "shell.execute_reply.started": "2022-01-21T11:49:10.774204Z"
    },
    "papermill": {
     "duration": 12.773465,
     "end_time": "2022-01-21T11:50:51.966366",
     "exception": false,
     "start_time": "2022-01-21T11:50:39.192901",
     "status": "completed"
    },
    "tags": []
   },
   "outputs": [
    {
     "name": "stdout",
     "output_type": "stream",
     "text": [
      "MAE: -0.201 (0.016)\n"
     ]
    }
   ],
   "source": [
    "# define the model\n",
    "model = RandomForestRegressor()\n",
    "# evaluate the model\n",
    "cv = RepeatedKFold(n_splits=10, n_repeats=3, random_state=1)\n",
    "n_scores = cross_val_score(model, X1, y1, scoring='neg_mean_absolute_error', cv=cv, n_jobs=-1, error_score='raise')\n",
    "# report performance\n",
    "print('MAE: %.3f (%.3f)' % (mean(n_scores), std(n_scores)))"
   ]
  },
  {
   "cell_type": "code",
   "execution_count": 9,
   "id": "3742704e",
   "metadata": {
    "execution": {
     "iopub.execute_input": "2022-01-21T11:50:51.996878Z",
     "iopub.status.busy": "2022-01-21T11:50:51.995888Z",
     "iopub.status.idle": "2022-01-21T11:51:02.139041Z",
     "shell.execute_reply": "2022-01-21T11:51:02.139550Z",
     "shell.execute_reply.started": "2022-01-21T11:49:29.181004Z"
    },
    "papermill": {
     "duration": 10.162266,
     "end_time": "2022-01-21T11:51:02.139763",
     "exception": false,
     "start_time": "2022-01-21T11:50:51.977497",
     "status": "completed"
    },
    "tags": []
   },
   "outputs": [
    {
     "name": "stdout",
     "output_type": "stream",
     "text": [
      "Accuracy: 68.07%\n"
     ]
    }
   ],
   "source": [
    "model_skfold = RandomForestRegressor(n_estimators=100)\n",
    "results_skfold = model_selection.cross_val_score(model_skfold,X1,y1, cv=cv,n_jobs=-1)\n",
    "print(\"Accuracy: %.2f%%\" % (results_skfold.mean()*100.0))"
   ]
  },
  {
   "cell_type": "code",
   "execution_count": null,
   "id": "d20de293",
   "metadata": {
    "papermill": {
     "duration": 0.011128,
     "end_time": "2022-01-21T11:51:02.162350",
     "exception": false,
     "start_time": "2022-01-21T11:51:02.151222",
     "status": "completed"
    },
    "tags": []
   },
   "outputs": [],
   "source": []
  }
 ],
 "metadata": {
  "kernelspec": {
   "display_name": "Python 3",
   "language": "python",
   "name": "python3"
  },
  "language_info": {
   "codemirror_mode": {
    "name": "ipython",
    "version": 3
   },
   "file_extension": ".py",
   "mimetype": "text/x-python",
   "name": "python",
   "nbconvert_exporter": "python",
   "pygments_lexer": "ipython3",
   "version": "3.7.12"
  },
  "papermill": {
   "default_parameters": {},
   "duration": 42.515589,
   "end_time": "2022-01-21T11:51:02.987102",
   "environment_variables": {},
   "exception": null,
   "input_path": "__notebook__.ipynb",
   "output_path": "__notebook__.ipynb",
   "parameters": {},
   "start_time": "2022-01-21T11:50:20.471513",
   "version": "2.3.3"
  }
 },
 "nbformat": 4,
 "nbformat_minor": 5
}
